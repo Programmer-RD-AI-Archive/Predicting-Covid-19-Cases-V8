{
  "nbformat": 4,
  "nbformat_minor": 0,
  "metadata": {
    "colab": {
      "name": "00-main.ipynb",
      "provenance": [],
      "collapsed_sections": []
    },
    "kernelspec": {
      "name": "python3",
      "display_name": "Python 3"
    },
    "language_info": {
      "name": "python"
    },
    "accelerator": "GPU"
  },
  "cells": [
    {
      "cell_type": "code",
      "metadata": {
        "colab": {
          "base_uri": "https://localhost:8080/"
        },
        "id": "kTjfHl-Bm09L",
        "outputId": "f49fb218-8344-4a1d-9988-007240bf1593"
      },
      "source": [
        "!nvidia-smi"
      ],
      "execution_count": 1,
      "outputs": [
        {
          "output_type": "stream",
          "text": [
            "NVIDIA-SMI has failed because it couldn't communicate with the NVIDIA driver. Make sure that the latest NVIDIA driver is installed and running.\n",
            "\n"
          ],
          "name": "stdout"
        }
      ]
    },
    {
      "cell_type": "code",
      "metadata": {
        "colab": {
          "base_uri": "https://localhost:8080/"
        },
        "id": "bNTjCgntnABS",
        "outputId": "efe32997-b002-43e8-8166-e42ba728a972"
      },
      "source": [
        "from google.colab import drive\n",
        "drive.mount('/content/drive')"
      ],
      "execution_count": 2,
      "outputs": [
        {
          "output_type": "stream",
          "text": [
            "Drive already mounted at /content/drive; to attempt to forcibly remount, call drive.mount(\"/content/drive\", force_remount=True).\n"
          ],
          "name": "stdout"
        }
      ]
    },
    {
      "cell_type": "code",
      "metadata": {
        "colab": {
          "base_uri": "https://localhost:8080/"
        },
        "id": "pNYHpn-fmvWv",
        "outputId": "50cba579-2f02-478f-8649-fd2419e5b07b"
      },
      "source": [
        "!unzip /content/drive/MyDrive/Colab\\ Notebooks/Projects/TensorFlow/Todo/Covid19-4/data.zip"
      ],
      "execution_count": 3,
      "outputs": [
        {
          "output_type": "stream",
          "text": [
            "Archive:  /content/drive/MyDrive/Colab Notebooks/Projects/TensorFlow/Todo/Covid19-4/data.zip\n",
            "replace tested_worldwide.csv? [y]es, [n]o, [A]ll, [N]one, [r]ename: "
          ],
          "name": "stdout"
        }
      ]
    },
    {
      "cell_type": "code",
      "metadata": {
        "id": "yH8Nz3HUm9G5"
      },
      "source": [
        "import pandas as pd\n",
        "import numpy as np\n",
        "import matplotlib.pyplot as plt\n",
        "import tensorflow as tf"
      ],
      "execution_count": 1,
      "outputs": []
    },
    {
      "cell_type": "code",
      "metadata": {
        "id": "XZHYj747ncXb"
      },
      "source": [
        "directory = \"/content/drive/MyDrive/Colab Notebooks/Projects/TensorFlow/Todo/Covid19-4\""
      ],
      "execution_count": 2,
      "outputs": []
    },
    {
      "cell_type": "code",
      "metadata": {
        "colab": {
          "base_uri": "https://localhost:8080/"
        },
        "id": "HBNBF6SkneIS",
        "outputId": "2d8bcdb9-df03-4d6c-8b39-3a5527d54c9b"
      },
      "source": [
        "import os\n",
        "os.listdir(directory)"
      ],
      "execution_count": 3,
      "outputs": [
        {
          "output_type": "execute_result",
          "data": {
            "text/plain": [
              "['00-main.ipynb', 'data.zip', '.ipynb_checkpoints']"
            ]
          },
          "metadata": {
            "tags": []
          },
          "execution_count": 3
        }
      ]
    },
    {
      "cell_type": "code",
      "metadata": {
        "id": "WwdDQcicnveC"
      },
      "source": [
        "data = pd.read_csv('/content/tested_worldwide.csv')"
      ],
      "execution_count": 4,
      "outputs": []
    },
    {
      "cell_type": "code",
      "metadata": {
        "colab": {
          "base_uri": "https://localhost:8080/",
          "height": 299
        },
        "id": "CLlFlOTEnz2T",
        "outputId": "02175f74-6a73-4ee9-ed98-0f23d8be506a"
      },
      "source": [
        "data.head()"
      ],
      "execution_count": 5,
      "outputs": [
        {
          "output_type": "execute_result",
          "data": {
            "text/html": [
              "<div>\n",
              "<style scoped>\n",
              "    .dataframe tbody tr th:only-of-type {\n",
              "        vertical-align: middle;\n",
              "    }\n",
              "\n",
              "    .dataframe tbody tr th {\n",
              "        vertical-align: top;\n",
              "    }\n",
              "\n",
              "    .dataframe thead th {\n",
              "        text-align: right;\n",
              "    }\n",
              "</style>\n",
              "<table border=\"1\" class=\"dataframe\">\n",
              "  <thead>\n",
              "    <tr style=\"text-align: right;\">\n",
              "      <th></th>\n",
              "      <th>Date</th>\n",
              "      <th>Country_Region</th>\n",
              "      <th>Province_State</th>\n",
              "      <th>positive</th>\n",
              "      <th>active</th>\n",
              "      <th>hospitalized</th>\n",
              "      <th>hospitalizedCurr</th>\n",
              "      <th>recovered</th>\n",
              "      <th>death</th>\n",
              "      <th>total_tested</th>\n",
              "      <th>daily_tested</th>\n",
              "      <th>daily_positive</th>\n",
              "    </tr>\n",
              "  </thead>\n",
              "  <tbody>\n",
              "    <tr>\n",
              "      <th>0</th>\n",
              "      <td>2020-01-16</td>\n",
              "      <td>Iceland</td>\n",
              "      <td>All States</td>\n",
              "      <td>3.0</td>\n",
              "      <td>NaN</td>\n",
              "      <td>NaN</td>\n",
              "      <td>NaN</td>\n",
              "      <td>NaN</td>\n",
              "      <td>NaN</td>\n",
              "      <td>NaN</td>\n",
              "      <td>NaN</td>\n",
              "      <td>NaN</td>\n",
              "    </tr>\n",
              "    <tr>\n",
              "      <th>1</th>\n",
              "      <td>2020-01-17</td>\n",
              "      <td>Iceland</td>\n",
              "      <td>All States</td>\n",
              "      <td>4.0</td>\n",
              "      <td>NaN</td>\n",
              "      <td>NaN</td>\n",
              "      <td>NaN</td>\n",
              "      <td>NaN</td>\n",
              "      <td>NaN</td>\n",
              "      <td>NaN</td>\n",
              "      <td>NaN</td>\n",
              "      <td>1.0</td>\n",
              "    </tr>\n",
              "    <tr>\n",
              "      <th>2</th>\n",
              "      <td>2020-01-18</td>\n",
              "      <td>Iceland</td>\n",
              "      <td>All States</td>\n",
              "      <td>7.0</td>\n",
              "      <td>NaN</td>\n",
              "      <td>NaN</td>\n",
              "      <td>NaN</td>\n",
              "      <td>NaN</td>\n",
              "      <td>NaN</td>\n",
              "      <td>NaN</td>\n",
              "      <td>NaN</td>\n",
              "      <td>3.0</td>\n",
              "    </tr>\n",
              "    <tr>\n",
              "      <th>3</th>\n",
              "      <td>2020-01-20</td>\n",
              "      <td>South Korea</td>\n",
              "      <td>All States</td>\n",
              "      <td>1.0</td>\n",
              "      <td>NaN</td>\n",
              "      <td>NaN</td>\n",
              "      <td>NaN</td>\n",
              "      <td>NaN</td>\n",
              "      <td>NaN</td>\n",
              "      <td>4.0</td>\n",
              "      <td>NaN</td>\n",
              "      <td>NaN</td>\n",
              "    </tr>\n",
              "    <tr>\n",
              "      <th>4</th>\n",
              "      <td>2020-01-22</td>\n",
              "      <td>United States</td>\n",
              "      <td>All States</td>\n",
              "      <td>0.0</td>\n",
              "      <td>NaN</td>\n",
              "      <td>NaN</td>\n",
              "      <td>NaN</td>\n",
              "      <td>NaN</td>\n",
              "      <td>0.0</td>\n",
              "      <td>0.0</td>\n",
              "      <td>NaN</td>\n",
              "      <td>NaN</td>\n",
              "    </tr>\n",
              "  </tbody>\n",
              "</table>\n",
              "</div>"
            ],
            "text/plain": [
              "         Date Country_Region  ... daily_tested  daily_positive\n",
              "0  2020-01-16        Iceland  ...          NaN             NaN\n",
              "1  2020-01-17        Iceland  ...          NaN             1.0\n",
              "2  2020-01-18        Iceland  ...          NaN             3.0\n",
              "3  2020-01-20    South Korea  ...          NaN             NaN\n",
              "4  2020-01-22  United States  ...          NaN             NaN\n",
              "\n",
              "[5 rows x 12 columns]"
            ]
          },
          "metadata": {
            "tags": []
          },
          "execution_count": 5
        }
      ]
    },
    {
      "cell_type": "code",
      "metadata": {
        "colab": {
          "base_uri": "https://localhost:8080/"
        },
        "id": "-Mrla9von1gS",
        "outputId": "bc90a19e-62f0-4da4-e72d-093955504ff4"
      },
      "source": [
        "data.isna().sum()"
      ],
      "execution_count": 6,
      "outputs": [
        {
          "output_type": "execute_result",
          "data": {
            "text/plain": [
              "Date                    0\n",
              "Country_Region          0\n",
              "Province_State          0\n",
              "positive             4242\n",
              "active               9833\n",
              "hospitalized        19231\n",
              "hospitalizedCurr    13080\n",
              "recovered            9626\n",
              "death                4010\n",
              "total_tested          912\n",
              "daily_tested         1174\n",
              "daily_positive       4557\n",
              "dtype: int64"
            ]
          },
          "metadata": {
            "tags": []
          },
          "execution_count": 6
        }
      ]
    },
    {
      "cell_type": "code",
      "metadata": {
        "colab": {
          "base_uri": "https://localhost:8080/"
        },
        "id": "aL6vRYuZn4YK",
        "outputId": "8897106d-20c8-4dc4-ec28-27273cc398a8"
      },
      "source": [
        "data.dtypes"
      ],
      "execution_count": 7,
      "outputs": [
        {
          "output_type": "execute_result",
          "data": {
            "text/plain": [
              "Date                 object\n",
              "Country_Region       object\n",
              "Province_State       object\n",
              "positive            float64\n",
              "active              float64\n",
              "hospitalized        float64\n",
              "hospitalizedCurr    float64\n",
              "recovered           float64\n",
              "death               float64\n",
              "total_tested        float64\n",
              "daily_tested        float64\n",
              "daily_positive      float64\n",
              "dtype: object"
            ]
          },
          "metadata": {
            "tags": []
          },
          "execution_count": 7
        }
      ]
    },
    {
      "cell_type": "code",
      "metadata": {
        "colab": {
          "base_uri": "https://localhost:8080/"
        },
        "id": "4CyxxiG5n5IS",
        "outputId": "9ba05599-11cc-4f21-8a59-6ec03a7df218"
      },
      "source": [
        "len(data)"
      ],
      "execution_count": 8,
      "outputs": [
        {
          "output_type": "execute_result",
          "data": {
            "text/plain": [
              "27641"
            ]
          },
          "metadata": {
            "tags": []
          },
          "execution_count": 8
        }
      ]
    },
    {
      "cell_type": "code",
      "metadata": {
        "colab": {
          "base_uri": "https://localhost:8080/"
        },
        "id": "1FnAlNUxn7-a",
        "outputId": "2ef93613-a411-4ca1-aa4a-fffeae7c8409"
      },
      "source": [
        "len(data.dropna())"
      ],
      "execution_count": 9,
      "outputs": [
        {
          "output_type": "execute_result",
          "data": {
            "text/plain": [
              "6330"
            ]
          },
          "metadata": {
            "tags": []
          },
          "execution_count": 9
        }
      ]
    },
    {
      "cell_type": "code",
      "metadata": {
        "colab": {
          "base_uri": "https://localhost:8080/"
        },
        "id": "dnVQcU1sn9Ra",
        "outputId": "ec84425f-ff70-4e26-a0f6-3686fb31fd75"
      },
      "source": [
        "data.isna().sum()"
      ],
      "execution_count": 10,
      "outputs": [
        {
          "output_type": "execute_result",
          "data": {
            "text/plain": [
              "Date                    0\n",
              "Country_Region          0\n",
              "Province_State          0\n",
              "positive             4242\n",
              "active               9833\n",
              "hospitalized        19231\n",
              "hospitalizedCurr    13080\n",
              "recovered            9626\n",
              "death                4010\n",
              "total_tested          912\n",
              "daily_tested         1174\n",
              "daily_positive       4557\n",
              "dtype: int64"
            ]
          },
          "metadata": {
            "tags": []
          },
          "execution_count": 10
        }
      ]
    },
    {
      "cell_type": "code",
      "metadata": {
        "colab": {
          "base_uri": "https://localhost:8080/",
          "height": 299
        },
        "id": "0Skaq0NPoGTj",
        "outputId": "f2a69da2-0687-4735-fcaa-86530b5ca449"
      },
      "source": [
        "data.tail()"
      ],
      "execution_count": 11,
      "outputs": [
        {
          "output_type": "execute_result",
          "data": {
            "text/html": [
              "<div>\n",
              "<style scoped>\n",
              "    .dataframe tbody tr th:only-of-type {\n",
              "        vertical-align: middle;\n",
              "    }\n",
              "\n",
              "    .dataframe tbody tr th {\n",
              "        vertical-align: top;\n",
              "    }\n",
              "\n",
              "    .dataframe thead th {\n",
              "        text-align: right;\n",
              "    }\n",
              "</style>\n",
              "<table border=\"1\" class=\"dataframe\">\n",
              "  <thead>\n",
              "    <tr style=\"text-align: right;\">\n",
              "      <th></th>\n",
              "      <th>Date</th>\n",
              "      <th>Country_Region</th>\n",
              "      <th>Province_State</th>\n",
              "      <th>positive</th>\n",
              "      <th>active</th>\n",
              "      <th>hospitalized</th>\n",
              "      <th>hospitalizedCurr</th>\n",
              "      <th>recovered</th>\n",
              "      <th>death</th>\n",
              "      <th>total_tested</th>\n",
              "      <th>daily_tested</th>\n",
              "      <th>daily_positive</th>\n",
              "    </tr>\n",
              "  </thead>\n",
              "  <tbody>\n",
              "    <tr>\n",
              "      <th>27636</th>\n",
              "      <td>2020-11-09</td>\n",
              "      <td>Australia</td>\n",
              "      <td>Queensland</td>\n",
              "      <td>NaN</td>\n",
              "      <td>8.0</td>\n",
              "      <td>NaN</td>\n",
              "      <td>8.0</td>\n",
              "      <td>1163.0</td>\n",
              "      <td>6.0</td>\n",
              "      <td>1265567.0</td>\n",
              "      <td>0.0</td>\n",
              "      <td>NaN</td>\n",
              "    </tr>\n",
              "    <tr>\n",
              "      <th>27637</th>\n",
              "      <td>2020-11-09</td>\n",
              "      <td>Australia</td>\n",
              "      <td>South Australia</td>\n",
              "      <td>NaN</td>\n",
              "      <td>19.0</td>\n",
              "      <td>NaN</td>\n",
              "      <td>0.0</td>\n",
              "      <td>492.0</td>\n",
              "      <td>4.0</td>\n",
              "      <td>572618.0</td>\n",
              "      <td>0.0</td>\n",
              "      <td>NaN</td>\n",
              "    </tr>\n",
              "    <tr>\n",
              "      <th>27638</th>\n",
              "      <td>2020-11-09</td>\n",
              "      <td>Australia</td>\n",
              "      <td>Tasmania</td>\n",
              "      <td>NaN</td>\n",
              "      <td>0.0</td>\n",
              "      <td>NaN</td>\n",
              "      <td>0.0</td>\n",
              "      <td>217.0</td>\n",
              "      <td>13.0</td>\n",
              "      <td>120292.0</td>\n",
              "      <td>0.0</td>\n",
              "      <td>NaN</td>\n",
              "    </tr>\n",
              "    <tr>\n",
              "      <th>27639</th>\n",
              "      <td>2020-11-09</td>\n",
              "      <td>Australia</td>\n",
              "      <td>Victoria</td>\n",
              "      <td>NaN</td>\n",
              "      <td>4.0</td>\n",
              "      <td>NaN</td>\n",
              "      <td>2.0</td>\n",
              "      <td>19522.0</td>\n",
              "      <td>819.0</td>\n",
              "      <td>3299302.0</td>\n",
              "      <td>0.0</td>\n",
              "      <td>NaN</td>\n",
              "    </tr>\n",
              "    <tr>\n",
              "      <th>27640</th>\n",
              "      <td>2020-11-09</td>\n",
              "      <td>Australia</td>\n",
              "      <td>Western Australia</td>\n",
              "      <td>NaN</td>\n",
              "      <td>10.0</td>\n",
              "      <td>NaN</td>\n",
              "      <td>0.0</td>\n",
              "      <td>757.0</td>\n",
              "      <td>9.0</td>\n",
              "      <td>501428.0</td>\n",
              "      <td>0.0</td>\n",
              "      <td>NaN</td>\n",
              "    </tr>\n",
              "  </tbody>\n",
              "</table>\n",
              "</div>"
            ],
            "text/plain": [
              "             Date Country_Region  ... daily_tested  daily_positive\n",
              "27636  2020-11-09      Australia  ...          0.0             NaN\n",
              "27637  2020-11-09      Australia  ...          0.0             NaN\n",
              "27638  2020-11-09      Australia  ...          0.0             NaN\n",
              "27639  2020-11-09      Australia  ...          0.0             NaN\n",
              "27640  2020-11-09      Australia  ...          0.0             NaN\n",
              "\n",
              "[5 rows x 12 columns]"
            ]
          },
          "metadata": {
            "tags": []
          },
          "execution_count": 11
        }
      ]
    },
    {
      "cell_type": "code",
      "metadata": {
        "colab": {
          "base_uri": "https://localhost:8080/"
        },
        "id": "Ek6TKIuUoL7y",
        "outputId": "20222e2e-6f41-4da6-da60-b9924eb879bc"
      },
      "source": [
        "data.isna().sum()"
      ],
      "execution_count": 12,
      "outputs": [
        {
          "output_type": "execute_result",
          "data": {
            "text/plain": [
              "Date                    0\n",
              "Country_Region          0\n",
              "Province_State          0\n",
              "positive             4242\n",
              "active               9833\n",
              "hospitalized        19231\n",
              "hospitalizedCurr    13080\n",
              "recovered            9626\n",
              "death                4010\n",
              "total_tested          912\n",
              "daily_tested         1174\n",
              "daily_positive       4557\n",
              "dtype: int64"
            ]
          },
          "metadata": {
            "tags": []
          },
          "execution_count": 12
        }
      ]
    },
    {
      "cell_type": "code",
      "metadata": {
        "id": "Hy7bVJ8bn_-q"
      },
      "source": [
        "data.drop(['positive','hospitalized','hospitalizedCurr','total_tested','daily_tested','daily_positive'],axis=1,inplace=True)"
      ],
      "execution_count": 13,
      "outputs": []
    },
    {
      "cell_type": "code",
      "metadata": {
        "colab": {
          "base_uri": "https://localhost:8080/"
        },
        "id": "Ez3ImhHmoY_G",
        "outputId": "040df48f-bdb0-4916-e3e8-077ae57e3695"
      },
      "source": [
        "data.isna().sum()"
      ],
      "execution_count": 14,
      "outputs": [
        {
          "output_type": "execute_result",
          "data": {
            "text/plain": [
              "Date                 0\n",
              "Country_Region       0\n",
              "Province_State       0\n",
              "active            9833\n",
              "recovered         9626\n",
              "death             4010\n",
              "dtype: int64"
            ]
          },
          "metadata": {
            "tags": []
          },
          "execution_count": 14
        }
      ]
    },
    {
      "cell_type": "code",
      "metadata": {
        "colab": {
          "base_uri": "https://localhost:8080/",
          "height": 195
        },
        "id": "OUsP-OW_oZ76",
        "outputId": "02312a2d-a99e-4a1d-df35-a1feb79b70ca"
      },
      "source": [
        "data.tail()"
      ],
      "execution_count": 15,
      "outputs": [
        {
          "output_type": "execute_result",
          "data": {
            "text/html": [
              "<div>\n",
              "<style scoped>\n",
              "    .dataframe tbody tr th:only-of-type {\n",
              "        vertical-align: middle;\n",
              "    }\n",
              "\n",
              "    .dataframe tbody tr th {\n",
              "        vertical-align: top;\n",
              "    }\n",
              "\n",
              "    .dataframe thead th {\n",
              "        text-align: right;\n",
              "    }\n",
              "</style>\n",
              "<table border=\"1\" class=\"dataframe\">\n",
              "  <thead>\n",
              "    <tr style=\"text-align: right;\">\n",
              "      <th></th>\n",
              "      <th>Date</th>\n",
              "      <th>Country_Region</th>\n",
              "      <th>Province_State</th>\n",
              "      <th>active</th>\n",
              "      <th>recovered</th>\n",
              "      <th>death</th>\n",
              "    </tr>\n",
              "  </thead>\n",
              "  <tbody>\n",
              "    <tr>\n",
              "      <th>27636</th>\n",
              "      <td>2020-11-09</td>\n",
              "      <td>Australia</td>\n",
              "      <td>Queensland</td>\n",
              "      <td>8.0</td>\n",
              "      <td>1163.0</td>\n",
              "      <td>6.0</td>\n",
              "    </tr>\n",
              "    <tr>\n",
              "      <th>27637</th>\n",
              "      <td>2020-11-09</td>\n",
              "      <td>Australia</td>\n",
              "      <td>South Australia</td>\n",
              "      <td>19.0</td>\n",
              "      <td>492.0</td>\n",
              "      <td>4.0</td>\n",
              "    </tr>\n",
              "    <tr>\n",
              "      <th>27638</th>\n",
              "      <td>2020-11-09</td>\n",
              "      <td>Australia</td>\n",
              "      <td>Tasmania</td>\n",
              "      <td>0.0</td>\n",
              "      <td>217.0</td>\n",
              "      <td>13.0</td>\n",
              "    </tr>\n",
              "    <tr>\n",
              "      <th>27639</th>\n",
              "      <td>2020-11-09</td>\n",
              "      <td>Australia</td>\n",
              "      <td>Victoria</td>\n",
              "      <td>4.0</td>\n",
              "      <td>19522.0</td>\n",
              "      <td>819.0</td>\n",
              "    </tr>\n",
              "    <tr>\n",
              "      <th>27640</th>\n",
              "      <td>2020-11-09</td>\n",
              "      <td>Australia</td>\n",
              "      <td>Western Australia</td>\n",
              "      <td>10.0</td>\n",
              "      <td>757.0</td>\n",
              "      <td>9.0</td>\n",
              "    </tr>\n",
              "  </tbody>\n",
              "</table>\n",
              "</div>"
            ],
            "text/plain": [
              "             Date Country_Region     Province_State  active  recovered  death\n",
              "27636  2020-11-09      Australia         Queensland     8.0     1163.0    6.0\n",
              "27637  2020-11-09      Australia    South Australia    19.0      492.0    4.0\n",
              "27638  2020-11-09      Australia           Tasmania     0.0      217.0   13.0\n",
              "27639  2020-11-09      Australia           Victoria     4.0    19522.0  819.0\n",
              "27640  2020-11-09      Australia  Western Australia    10.0      757.0    9.0"
            ]
          },
          "metadata": {
            "tags": []
          },
          "execution_count": 15
        }
      ]
    },
    {
      "cell_type": "code",
      "metadata": {
        "id": "p2HBMzZWofIy"
      },
      "source": [
        "import re"
      ],
      "execution_count": 16,
      "outputs": []
    },
    {
      "cell_type": "code",
      "metadata": {
        "id": "D0iEcX55osSb"
      },
      "source": [
        "dates = []\n",
        "for date in data['Date']:\n",
        "  dates.append(re.sub('-','',date))"
      ],
      "execution_count": 17,
      "outputs": []
    },
    {
      "cell_type": "code",
      "metadata": {
        "colab": {
          "base_uri": "https://localhost:8080/"
        },
        "id": "uumVcw1Co0hK",
        "outputId": "ca3332a1-95ce-4e49-b265-fd60ec6bbf21"
      },
      "source": [
        "dates[:1]"
      ],
      "execution_count": 18,
      "outputs": [
        {
          "output_type": "execute_result",
          "data": {
            "text/plain": [
              "['20200116']"
            ]
          },
          "metadata": {
            "tags": []
          },
          "execution_count": 18
        }
      ]
    },
    {
      "cell_type": "code",
      "metadata": {
        "id": "RdKqF7ERo1hy"
      },
      "source": [
        "data['Date'] = dates"
      ],
      "execution_count": 19,
      "outputs": []
    },
    {
      "cell_type": "code",
      "metadata": {
        "colab": {
          "base_uri": "https://localhost:8080/",
          "height": 195
        },
        "id": "jFeyfo_to4Uq",
        "outputId": "ba50d0bc-dac9-47c1-aeb9-427ea4161c45"
      },
      "source": [
        "data.head()"
      ],
      "execution_count": 20,
      "outputs": [
        {
          "output_type": "execute_result",
          "data": {
            "text/html": [
              "<div>\n",
              "<style scoped>\n",
              "    .dataframe tbody tr th:only-of-type {\n",
              "        vertical-align: middle;\n",
              "    }\n",
              "\n",
              "    .dataframe tbody tr th {\n",
              "        vertical-align: top;\n",
              "    }\n",
              "\n",
              "    .dataframe thead th {\n",
              "        text-align: right;\n",
              "    }\n",
              "</style>\n",
              "<table border=\"1\" class=\"dataframe\">\n",
              "  <thead>\n",
              "    <tr style=\"text-align: right;\">\n",
              "      <th></th>\n",
              "      <th>Date</th>\n",
              "      <th>Country_Region</th>\n",
              "      <th>Province_State</th>\n",
              "      <th>active</th>\n",
              "      <th>recovered</th>\n",
              "      <th>death</th>\n",
              "    </tr>\n",
              "  </thead>\n",
              "  <tbody>\n",
              "    <tr>\n",
              "      <th>0</th>\n",
              "      <td>20200116</td>\n",
              "      <td>Iceland</td>\n",
              "      <td>All States</td>\n",
              "      <td>NaN</td>\n",
              "      <td>NaN</td>\n",
              "      <td>NaN</td>\n",
              "    </tr>\n",
              "    <tr>\n",
              "      <th>1</th>\n",
              "      <td>20200117</td>\n",
              "      <td>Iceland</td>\n",
              "      <td>All States</td>\n",
              "      <td>NaN</td>\n",
              "      <td>NaN</td>\n",
              "      <td>NaN</td>\n",
              "    </tr>\n",
              "    <tr>\n",
              "      <th>2</th>\n",
              "      <td>20200118</td>\n",
              "      <td>Iceland</td>\n",
              "      <td>All States</td>\n",
              "      <td>NaN</td>\n",
              "      <td>NaN</td>\n",
              "      <td>NaN</td>\n",
              "    </tr>\n",
              "    <tr>\n",
              "      <th>3</th>\n",
              "      <td>20200120</td>\n",
              "      <td>South Korea</td>\n",
              "      <td>All States</td>\n",
              "      <td>NaN</td>\n",
              "      <td>NaN</td>\n",
              "      <td>NaN</td>\n",
              "    </tr>\n",
              "    <tr>\n",
              "      <th>4</th>\n",
              "      <td>20200122</td>\n",
              "      <td>United States</td>\n",
              "      <td>All States</td>\n",
              "      <td>NaN</td>\n",
              "      <td>NaN</td>\n",
              "      <td>0.0</td>\n",
              "    </tr>\n",
              "  </tbody>\n",
              "</table>\n",
              "</div>"
            ],
            "text/plain": [
              "       Date Country_Region Province_State  active  recovered  death\n",
              "0  20200116        Iceland     All States     NaN        NaN    NaN\n",
              "1  20200117        Iceland     All States     NaN        NaN    NaN\n",
              "2  20200118        Iceland     All States     NaN        NaN    NaN\n",
              "3  20200120    South Korea     All States     NaN        NaN    NaN\n",
              "4  20200122  United States     All States     NaN        NaN    0.0"
            ]
          },
          "metadata": {
            "tags": []
          },
          "execution_count": 20
        }
      ]
    },
    {
      "cell_type": "code",
      "metadata": {
        "colab": {
          "base_uri": "https://localhost:8080/"
        },
        "id": "eAV_mSj3o5NK",
        "outputId": "ec193cfd-3403-4b78-eaa1-47d3208954f9"
      },
      "source": [
        "data.isna().sum()"
      ],
      "execution_count": 21,
      "outputs": [
        {
          "output_type": "execute_result",
          "data": {
            "text/plain": [
              "Date                 0\n",
              "Country_Region       0\n",
              "Province_State       0\n",
              "active            9833\n",
              "recovered         9626\n",
              "death             4010\n",
              "dtype: int64"
            ]
          },
          "metadata": {
            "tags": []
          },
          "execution_count": 21
        }
      ]
    },
    {
      "cell_type": "code",
      "metadata": {
        "colab": {
          "base_uri": "https://localhost:8080/"
        },
        "id": "OCgtnVQ5o7cq",
        "outputId": "1fc44053-0762-417c-ad22-f6c0bbe6d17e"
      },
      "source": [
        "len(data.dropna())"
      ],
      "execution_count": 22,
      "outputs": [
        {
          "output_type": "execute_result",
          "data": {
            "text/plain": [
              "17719"
            ]
          },
          "metadata": {
            "tags": []
          },
          "execution_count": 22
        }
      ]
    },
    {
      "cell_type": "code",
      "metadata": {
        "colab": {
          "base_uri": "https://localhost:8080/"
        },
        "id": "WBNE167Ho-cS",
        "outputId": "19dc29ff-fefa-428f-d0d3-21ff23992157"
      },
      "source": [
        "len(data)"
      ],
      "execution_count": 23,
      "outputs": [
        {
          "output_type": "execute_result",
          "data": {
            "text/plain": [
              "27641"
            ]
          },
          "metadata": {
            "tags": []
          },
          "execution_count": 23
        }
      ]
    },
    {
      "cell_type": "code",
      "metadata": {
        "id": "8NWfdD50o-4S"
      },
      "source": [
        "data.dropna(inplace=True)"
      ],
      "execution_count": 24,
      "outputs": []
    },
    {
      "cell_type": "code",
      "metadata": {
        "id": "jeNztUwMpCUq"
      },
      "source": [
        "X = data.drop(['active','death','recovered'],axis=1)\n",
        "y = data.drop(['Date','Country_Region','Province_State'],axis=1)"
      ],
      "execution_count": 25,
      "outputs": []
    },
    {
      "cell_type": "code",
      "metadata": {
        "id": "1dRHPdzlsI22"
      },
      "source": [
        "pss = []\n",
        "for ps in X['Province_State']:\n",
        "  pss.append(ps)"
      ],
      "execution_count": 26,
      "outputs": []
    },
    {
      "cell_type": "code",
      "metadata": {
        "id": "oO0oguz_sWqu"
      },
      "source": [
        "css = []\n",
        "for cs in X['Country_Region']:\n",
        "  css.append(cs)"
      ],
      "execution_count": 27,
      "outputs": []
    },
    {
      "cell_type": "code",
      "metadata": {
        "colab": {
          "base_uri": "https://localhost:8080/",
          "height": 402
        },
        "id": "I3-KDIbdpOCr",
        "outputId": "13c35867-cfa7-4e1b-82b2-d0a368d9af70"
      },
      "source": [
        "X"
      ],
      "execution_count": 28,
      "outputs": [
        {
          "output_type": "execute_result",
          "data": {
            "text/html": [
              "<div>\n",
              "<style scoped>\n",
              "    .dataframe tbody tr th:only-of-type {\n",
              "        vertical-align: middle;\n",
              "    }\n",
              "\n",
              "    .dataframe tbody tr th {\n",
              "        vertical-align: top;\n",
              "    }\n",
              "\n",
              "    .dataframe thead th {\n",
              "        text-align: right;\n",
              "    }\n",
              "</style>\n",
              "<table border=\"1\" class=\"dataframe\">\n",
              "  <thead>\n",
              "    <tr style=\"text-align: right;\">\n",
              "      <th></th>\n",
              "      <th>Date</th>\n",
              "      <th>Country_Region</th>\n",
              "      <th>Province_State</th>\n",
              "    </tr>\n",
              "  </thead>\n",
              "  <tbody>\n",
              "    <tr>\n",
              "      <th>162</th>\n",
              "      <td>20200203</td>\n",
              "      <td>Armenia</td>\n",
              "      <td>All States</td>\n",
              "    </tr>\n",
              "    <tr>\n",
              "      <th>179</th>\n",
              "      <td>20200204</td>\n",
              "      <td>Armenia</td>\n",
              "      <td>All States</td>\n",
              "    </tr>\n",
              "    <tr>\n",
              "      <th>197</th>\n",
              "      <td>20200205</td>\n",
              "      <td>Armenia</td>\n",
              "      <td>All States</td>\n",
              "    </tr>\n",
              "    <tr>\n",
              "      <th>215</th>\n",
              "      <td>20200206</td>\n",
              "      <td>Armenia</td>\n",
              "      <td>All States</td>\n",
              "    </tr>\n",
              "    <tr>\n",
              "      <th>233</th>\n",
              "      <td>20200207</td>\n",
              "      <td>Armenia</td>\n",
              "      <td>All States</td>\n",
              "    </tr>\n",
              "    <tr>\n",
              "      <th>...</th>\n",
              "      <td>...</td>\n",
              "      <td>...</td>\n",
              "      <td>...</td>\n",
              "    </tr>\n",
              "    <tr>\n",
              "      <th>27636</th>\n",
              "      <td>20201109</td>\n",
              "      <td>Australia</td>\n",
              "      <td>Queensland</td>\n",
              "    </tr>\n",
              "    <tr>\n",
              "      <th>27637</th>\n",
              "      <td>20201109</td>\n",
              "      <td>Australia</td>\n",
              "      <td>South Australia</td>\n",
              "    </tr>\n",
              "    <tr>\n",
              "      <th>27638</th>\n",
              "      <td>20201109</td>\n",
              "      <td>Australia</td>\n",
              "      <td>Tasmania</td>\n",
              "    </tr>\n",
              "    <tr>\n",
              "      <th>27639</th>\n",
              "      <td>20201109</td>\n",
              "      <td>Australia</td>\n",
              "      <td>Victoria</td>\n",
              "    </tr>\n",
              "    <tr>\n",
              "      <th>27640</th>\n",
              "      <td>20201109</td>\n",
              "      <td>Australia</td>\n",
              "      <td>Western Australia</td>\n",
              "    </tr>\n",
              "  </tbody>\n",
              "</table>\n",
              "<p>17719 rows × 3 columns</p>\n",
              "</div>"
            ],
            "text/plain": [
              "           Date Country_Region     Province_State\n",
              "162    20200203        Armenia         All States\n",
              "179    20200204        Armenia         All States\n",
              "197    20200205        Armenia         All States\n",
              "215    20200206        Armenia         All States\n",
              "233    20200207        Armenia         All States\n",
              "...         ...            ...                ...\n",
              "27636  20201109      Australia         Queensland\n",
              "27637  20201109      Australia    South Australia\n",
              "27638  20201109      Australia           Tasmania\n",
              "27639  20201109      Australia           Victoria\n",
              "27640  20201109      Australia  Western Australia\n",
              "\n",
              "[17719 rows x 3 columns]"
            ]
          },
          "metadata": {
            "tags": []
          },
          "execution_count": 28
        }
      ]
    },
    {
      "cell_type": "code",
      "metadata": {
        "colab": {
          "base_uri": "https://localhost:8080/",
          "height": 402
        },
        "id": "S_nzZuG3pOVj",
        "outputId": "58930d26-5b1c-44e9-f60b-b6bc74a4d1e2"
      },
      "source": [
        "y"
      ],
      "execution_count": 29,
      "outputs": [
        {
          "output_type": "execute_result",
          "data": {
            "text/html": [
              "<div>\n",
              "<style scoped>\n",
              "    .dataframe tbody tr th:only-of-type {\n",
              "        vertical-align: middle;\n",
              "    }\n",
              "\n",
              "    .dataframe tbody tr th {\n",
              "        vertical-align: top;\n",
              "    }\n",
              "\n",
              "    .dataframe thead th {\n",
              "        text-align: right;\n",
              "    }\n",
              "</style>\n",
              "<table border=\"1\" class=\"dataframe\">\n",
              "  <thead>\n",
              "    <tr style=\"text-align: right;\">\n",
              "      <th></th>\n",
              "      <th>active</th>\n",
              "      <th>recovered</th>\n",
              "      <th>death</th>\n",
              "    </tr>\n",
              "  </thead>\n",
              "  <tbody>\n",
              "    <tr>\n",
              "      <th>162</th>\n",
              "      <td>0.0</td>\n",
              "      <td>0.0</td>\n",
              "      <td>0.0</td>\n",
              "    </tr>\n",
              "    <tr>\n",
              "      <th>179</th>\n",
              "      <td>0.0</td>\n",
              "      <td>0.0</td>\n",
              "      <td>0.0</td>\n",
              "    </tr>\n",
              "    <tr>\n",
              "      <th>197</th>\n",
              "      <td>0.0</td>\n",
              "      <td>0.0</td>\n",
              "      <td>0.0</td>\n",
              "    </tr>\n",
              "    <tr>\n",
              "      <th>215</th>\n",
              "      <td>0.0</td>\n",
              "      <td>0.0</td>\n",
              "      <td>0.0</td>\n",
              "    </tr>\n",
              "    <tr>\n",
              "      <th>233</th>\n",
              "      <td>0.0</td>\n",
              "      <td>0.0</td>\n",
              "      <td>0.0</td>\n",
              "    </tr>\n",
              "    <tr>\n",
              "      <th>...</th>\n",
              "      <td>...</td>\n",
              "      <td>...</td>\n",
              "      <td>...</td>\n",
              "    </tr>\n",
              "    <tr>\n",
              "      <th>27636</th>\n",
              "      <td>8.0</td>\n",
              "      <td>1163.0</td>\n",
              "      <td>6.0</td>\n",
              "    </tr>\n",
              "    <tr>\n",
              "      <th>27637</th>\n",
              "      <td>19.0</td>\n",
              "      <td>492.0</td>\n",
              "      <td>4.0</td>\n",
              "    </tr>\n",
              "    <tr>\n",
              "      <th>27638</th>\n",
              "      <td>0.0</td>\n",
              "      <td>217.0</td>\n",
              "      <td>13.0</td>\n",
              "    </tr>\n",
              "    <tr>\n",
              "      <th>27639</th>\n",
              "      <td>4.0</td>\n",
              "      <td>19522.0</td>\n",
              "      <td>819.0</td>\n",
              "    </tr>\n",
              "    <tr>\n",
              "      <th>27640</th>\n",
              "      <td>10.0</td>\n",
              "      <td>757.0</td>\n",
              "      <td>9.0</td>\n",
              "    </tr>\n",
              "  </tbody>\n",
              "</table>\n",
              "<p>17719 rows × 3 columns</p>\n",
              "</div>"
            ],
            "text/plain": [
              "       active  recovered  death\n",
              "162       0.0        0.0    0.0\n",
              "179       0.0        0.0    0.0\n",
              "197       0.0        0.0    0.0\n",
              "215       0.0        0.0    0.0\n",
              "233       0.0        0.0    0.0\n",
              "...       ...        ...    ...\n",
              "27636     8.0     1163.0    6.0\n",
              "27637    19.0      492.0    4.0\n",
              "27638     0.0      217.0   13.0\n",
              "27639     4.0    19522.0  819.0\n",
              "27640    10.0      757.0    9.0\n",
              "\n",
              "[17719 rows x 3 columns]"
            ]
          },
          "metadata": {
            "tags": []
          },
          "execution_count": 29
        }
      ]
    },
    {
      "cell_type": "code",
      "metadata": {
        "id": "XUPcWmk3pThT"
      },
      "source": [
        "from sklearn.compose import make_column_transformer\n",
        "from sklearn.preprocessing import OneHotEncoder,MinMaxScaler"
      ],
      "execution_count": 30,
      "outputs": []
    },
    {
      "cell_type": "code",
      "metadata": {
        "id": "fO_KlZXSsc8f"
      },
      "source": [
        "X_old = X\n",
        "y_old = y\n",
        "from sklearn.model_selection import train_test_split"
      ],
      "execution_count": 31,
      "outputs": []
    },
    {
      "cell_type": "code",
      "metadata": {
        "id": "b18IUC7vsgeE"
      },
      "source": [
        "X_train,X_test,y_train,y_test = train_test_split(X,y,test_size=0.25)\n",
        "X_train_old = X_train\n",
        "X_test_old = X_test"
      ],
      "execution_count": 32,
      "outputs": []
    },
    {
      "cell_type": "code",
      "metadata": {
        "id": "MxJQC2kJ1abp"
      },
      "source": [
        "y = data.drop(['Date','Country_Region','Province_State'],axis=1)"
      ],
      "execution_count": 33,
      "outputs": []
    },
    {
      "cell_type": "code",
      "metadata": {
        "id": "_9gxGT1pqRw-"
      },
      "source": [
        "ct = make_column_transformer(\n",
        "    (OneHotEncoder(),['Country_Region','Province_State']),\n",
        "    (MinMaxScaler(),['Date'])\n",
        ")\n",
        "ct.fit(X)\n",
        "X_train = ct.transform(X_train)\n",
        "X_train = X_train.toarray()\n",
        "X_test = ct.transform(X_test)\n",
        "X_test = X_test.toarray()"
      ],
      "execution_count": 34,
      "outputs": []
    },
    {
      "cell_type": "code",
      "metadata": {
        "colab": {
          "base_uri": "https://localhost:8080/"
        },
        "id": "AleQL3oPsBN0",
        "outputId": "ff953ef4-6b1a-4656-9f0a-354521e7c92b"
      },
      "source": [
        "X_train"
      ],
      "execution_count": 35,
      "outputs": [
        {
          "output_type": "execute_result",
          "data": {
            "text/plain": [
              "array([[0.        , 0.        , 0.        , ..., 0.        , 0.        ,\n",
              "        0.90949227],\n",
              "       [0.        , 0.        , 0.        , ..., 0.        , 0.        ,\n",
              "        0.66225166],\n",
              "       [0.        , 0.        , 0.        , ..., 0.        , 0.        ,\n",
              "        0.88741722],\n",
              "       ...,\n",
              "       [0.        , 0.        , 0.        , ..., 0.        , 0.        ,\n",
              "        0.24834437],\n",
              "       [0.        , 0.        , 0.        , ..., 0.        , 0.        ,\n",
              "        0.35761589],\n",
              "       [0.        , 0.        , 0.        , ..., 0.        , 0.        ,\n",
              "        0.33222958]])"
            ]
          },
          "metadata": {
            "tags": []
          },
          "execution_count": 35
        }
      ]
    },
    {
      "cell_type": "code",
      "metadata": {
        "colab": {
          "base_uri": "https://localhost:8080/"
        },
        "id": "Z_PL1ZkNs5Sv",
        "outputId": "ba22b9a1-1e03-4517-dde3-2779c635215c"
      },
      "source": [
        "X_test"
      ],
      "execution_count": 36,
      "outputs": [
        {
          "output_type": "execute_result",
          "data": {
            "text/plain": [
              "array([[0.        , 0.        , 0.        , ..., 0.        , 0.        ,\n",
              "        0.68543046],\n",
              "       [0.        , 1.        , 0.        , ..., 0.        , 0.        ,\n",
              "        0.66777042],\n",
              "       [0.        , 0.        , 0.        , ..., 0.        , 0.        ,\n",
              "        0.79580574],\n",
              "       ...,\n",
              "       [0.        , 0.        , 0.        , ..., 0.        , 0.        ,\n",
              "        0.5794702 ],\n",
              "       [0.        , 0.        , 0.        , ..., 0.        , 0.        ,\n",
              "        0.4580574 ],\n",
              "       [0.        , 0.        , 0.        , ..., 0.        , 0.        ,\n",
              "        0.2218543 ]])"
            ]
          },
          "metadata": {
            "tags": []
          },
          "execution_count": 36
        }
      ]
    },
    {
      "cell_type": "code",
      "metadata": {
        "colab": {
          "base_uri": "https://localhost:8080/"
        },
        "id": "XMwlCQASs5mf",
        "outputId": "e9d269b8-cb92-4a9e-fcb3-888c69e90f20"
      },
      "source": [
        "len(X_test)"
      ],
      "execution_count": 37,
      "outputs": [
        {
          "output_type": "execute_result",
          "data": {
            "text/plain": [
              "4430"
            ]
          },
          "metadata": {
            "tags": []
          },
          "execution_count": 37
        }
      ]
    },
    {
      "cell_type": "code",
      "metadata": {
        "colab": {
          "base_uri": "https://localhost:8080/"
        },
        "id": "G4eCQPHYs-xB",
        "outputId": "6878d440-f665-4c56-9663-21217ad6aba2"
      },
      "source": [
        "len(X_train)"
      ],
      "execution_count": 38,
      "outputs": [
        {
          "output_type": "execute_result",
          "data": {
            "text/plain": [
              "13289"
            ]
          },
          "metadata": {
            "tags": []
          },
          "execution_count": 38
        }
      ]
    },
    {
      "cell_type": "markdown",
      "metadata": {
        "id": "mklDl0iQtAxa"
      },
      "source": [
        "### Modelling"
      ]
    },
    {
      "cell_type": "code",
      "metadata": {
        "colab": {
          "base_uri": "https://localhost:8080/"
        },
        "id": "dZSyeFm9tHcO",
        "outputId": "e699841c-8ddb-47a3-e231-1e4ffabace8b"
      },
      "source": [
        "!pip3 install wandb"
      ],
      "execution_count": 39,
      "outputs": [
        {
          "output_type": "stream",
          "text": [
            "Requirement already satisfied: wandb in /usr/local/lib/python3.7/dist-packages (0.10.23)\n",
            "Requirement already satisfied: configparser>=3.8.1 in /usr/local/lib/python3.7/dist-packages (from wandb) (5.0.2)\n",
            "Requirement already satisfied: protobuf>=3.12.0 in /usr/local/lib/python3.7/dist-packages (from wandb) (3.12.4)\n",
            "Requirement already satisfied: psutil>=5.0.0 in /usr/local/lib/python3.7/dist-packages (from wandb) (5.4.8)\n",
            "Requirement already satisfied: pathtools in /usr/local/lib/python3.7/dist-packages (from wandb) (0.1.2)\n",
            "Requirement already satisfied: promise<3,>=2.0 in /usr/local/lib/python3.7/dist-packages (from wandb) (2.3)\n",
            "Requirement already satisfied: subprocess32>=3.5.3 in /usr/local/lib/python3.7/dist-packages (from wandb) (3.5.4)\n",
            "Requirement already satisfied: PyYAML in /usr/local/lib/python3.7/dist-packages (from wandb) (3.13)\n",
            "Requirement already satisfied: requests<3,>=2.0.0 in /usr/local/lib/python3.7/dist-packages (from wandb) (2.23.0)\n",
            "Requirement already satisfied: docker-pycreds>=0.4.0 in /usr/local/lib/python3.7/dist-packages (from wandb) (0.4.0)\n",
            "Requirement already satisfied: sentry-sdk>=0.4.0 in /usr/local/lib/python3.7/dist-packages (from wandb) (1.0.0)\n",
            "Requirement already satisfied: GitPython>=1.0.0 in /usr/local/lib/python3.7/dist-packages (from wandb) (3.1.14)\n",
            "Requirement already satisfied: six>=1.13.0 in /usr/local/lib/python3.7/dist-packages (from wandb) (1.15.0)\n",
            "Requirement already satisfied: shortuuid>=0.5.0 in /usr/local/lib/python3.7/dist-packages (from wandb) (1.0.1)\n",
            "Requirement already satisfied: Click>=7.0 in /usr/local/lib/python3.7/dist-packages (from wandb) (7.1.2)\n",
            "Requirement already satisfied: python-dateutil>=2.6.1 in /usr/local/lib/python3.7/dist-packages (from wandb) (2.8.1)\n",
            "Requirement already satisfied: setuptools in /usr/local/lib/python3.7/dist-packages (from protobuf>=3.12.0->wandb) (54.1.2)\n",
            "Requirement already satisfied: chardet<4,>=3.0.2 in /usr/local/lib/python3.7/dist-packages (from requests<3,>=2.0.0->wandb) (3.0.4)\n",
            "Requirement already satisfied: urllib3!=1.25.0,!=1.25.1,<1.26,>=1.21.1 in /usr/local/lib/python3.7/dist-packages (from requests<3,>=2.0.0->wandb) (1.24.3)\n",
            "Requirement already satisfied: certifi>=2017.4.17 in /usr/local/lib/python3.7/dist-packages (from requests<3,>=2.0.0->wandb) (2020.12.5)\n",
            "Requirement already satisfied: idna<3,>=2.5 in /usr/local/lib/python3.7/dist-packages (from requests<3,>=2.0.0->wandb) (2.10)\n",
            "Requirement already satisfied: gitdb<5,>=4.0.1 in /usr/local/lib/python3.7/dist-packages (from GitPython>=1.0.0->wandb) (4.0.5)\n",
            "Requirement already satisfied: smmap<4,>=3.0.1 in /usr/local/lib/python3.7/dist-packages (from gitdb<5,>=4.0.1->GitPython>=1.0.0->wandb) (3.0.5)\n"
          ],
          "name": "stdout"
        }
      ]
    },
    {
      "cell_type": "code",
      "metadata": {
        "id": "nya7aFxxtNdm"
      },
      "source": [
        "import wandb\n",
        "from wandb.keras import *"
      ],
      "execution_count": 40,
      "outputs": []
    },
    {
      "cell_type": "code",
      "metadata": {
        "id": "7Vq9wKhDtFBE"
      },
      "source": [
        "# # Baseline\n",
        "# from tensorflow.keras.callbacks import EarlyStopping\n",
        "# wandb.init(project='covid19-0',name='baseline')\n",
        "# model_base_line = tf.keras.Sequential()\n",
        "# model_base_line.add(tf.keras.layers.Dense(1))\n",
        "# model_base_line.compile(loss=tf.keras.losses.mae,optimizer=tf.keras.optimizers.Adam(),metrics=['mse'])\n",
        "# model_base_line.fit(X_train,y_train,epochs=100,callbacks=[WandbCallback()])"
      ],
      "execution_count": 41,
      "outputs": []
    },
    {
      "cell_type": "code",
      "metadata": {
        "id": "vYYz5UMe1UlW"
      },
      "source": [
        "y = data.drop(['Date','Country_Region','Province_State'],axis=1)"
      ],
      "execution_count": 42,
      "outputs": []
    },
    {
      "cell_type": "code",
      "metadata": {
        "colab": {
          "base_uri": "https://localhost:8080/"
        },
        "id": "6yCVmv1_1VYd",
        "outputId": "f6b699ff-fe54-446e-daa7-0540279419ab"
      },
      "source": [
        "X_train"
      ],
      "execution_count": 43,
      "outputs": [
        {
          "output_type": "execute_result",
          "data": {
            "text/plain": [
              "array([[0.        , 0.        , 0.        , ..., 0.        , 0.        ,\n",
              "        0.90949227],\n",
              "       [0.        , 0.        , 0.        , ..., 0.        , 0.        ,\n",
              "        0.66225166],\n",
              "       [0.        , 0.        , 0.        , ..., 0.        , 0.        ,\n",
              "        0.88741722],\n",
              "       ...,\n",
              "       [0.        , 0.        , 0.        , ..., 0.        , 0.        ,\n",
              "        0.24834437],\n",
              "       [0.        , 0.        , 0.        , ..., 0.        , 0.        ,\n",
              "        0.35761589],\n",
              "       [0.        , 0.        , 0.        , ..., 0.        , 0.        ,\n",
              "        0.33222958]])"
            ]
          },
          "metadata": {
            "tags": []
          },
          "execution_count": 43
        }
      ]
    },
    {
      "cell_type": "code",
      "metadata": {
        "colab": {
          "base_uri": "https://localhost:8080/"
        },
        "id": "XfQBTaAf3Ybs",
        "outputId": "6c42871e-93c7-495c-a6cc-f102ac5cf54e"
      },
      "source": [
        "X_train.shape"
      ],
      "execution_count": 44,
      "outputs": [
        {
          "output_type": "execute_result",
          "data": {
            "text/plain": [
              "(13289, 95)"
            ]
          },
          "metadata": {
            "tags": []
          },
          "execution_count": 44
        }
      ]
    },
    {
      "cell_type": "code",
      "metadata": {
        "colab": {
          "base_uri": "https://localhost:8080/"
        },
        "id": "TS25dJ4F3alH",
        "outputId": "a0e6e1fd-4955-4252-a4cd-6509b609fee9"
      },
      "source": [
        "y_train.shape"
      ],
      "execution_count": 45,
      "outputs": [
        {
          "output_type": "execute_result",
          "data": {
            "text/plain": [
              "(13289, 3)"
            ]
          },
          "metadata": {
            "tags": []
          },
          "execution_count": 45
        }
      ]
    },
    {
      "cell_type": "code",
      "metadata": {
        "id": "DLLWtwzjtB6q"
      },
      "source": [
        "class Experiment:\n",
        "  def experiment(self,lr:int,project_name:str,name:str,number_of_layers:int,number_of_neurons_per_layer:int,activations:list,loss,optimizer,metrics:list,epochs:int):\n",
        "    wandb.init(project=project_name,name=name)\n",
        "    print('-')\n",
        "    if number_of_layers != len(activations):\n",
        "      new_activations = []\n",
        "      for _ in range(number_of_layers):\n",
        "        print(_)\n",
        "        new_activations.append(activations[0])\n",
        "      activations = new_activations\n",
        "    print('-')\n",
        "    model = tf.keras.Sequential()\n",
        "    print('-')\n",
        "    for activation in activations:\n",
        "      model.add(tf.keras.layers.Dense(number_of_neurons_per_layer,activation=activation))\n",
        "    print('-')\n",
        "    # model.add(tf.keras.layers.Dense(len(y),activation=None))\n",
        "    print('-')\n",
        "    model.compile(loss=loss,optimizer=optimizer(lr=lr),metrics=metrics)\n",
        "    print('-')\n",
        "    model.fit(X_train,y_train,validation_data=(X_test,y_test),epochs=epochs,callbacks=[WandbCallback()])\n",
        "    return model\n",
        "  def experiment_with_early_stop(self,lr:int,project_name:str,name:str,number_of_layers:int,number_of_neurons_per_layer:int,activations:list,loss,optimizer,metrics:list,epochs:int):\n",
        "    wandb.init(project=project_name,name=name)\n",
        "    print('-')\n",
        "    if number_of_layers != len(activations):\n",
        "      new_activations = []\n",
        "      for _ in range(number_of_layers):\n",
        "        print(_)\n",
        "        new_activations.append(activations[0])\n",
        "      activations = new_activations\n",
        "    print('-')\n",
        "    model = tf.keras.Sequential()\n",
        "    print('-')\n",
        "    for activation in activations:\n",
        "      model.add(tf.keras.layers.Dense(number_of_neurons_per_layer,activation=activation))\n",
        "    print('-')\n",
        "    # model.add(tf.keras.layers.Dense(len(y),activation=None))\n",
        "    print('-')\n",
        "    model.compile(loss=loss,optimizer=optimizer(lr=lr),metrics=metrics)\n",
        "    print('-')\n",
        "    model.fit(X_train,y_train,validation_data=(X_test,y_test),epochs=epochs,callbacks=[WandbCallback(),EarlyStopping(patience=10)])\n",
        "    return model"
      ],
      "execution_count": 46,
      "outputs": []
    },
    {
      "cell_type": "code",
      "metadata": {
        "id": "vSKd6c9Fw7At"
      },
      "source": [
        "E = Experiment()\n",
        "# E.experiment(lr=0.001,project_name='covid19-0',name='test',number_of_layers=1,number_of_neurons_per_layer=1,activations=[None],loss='mae',optimizer=tf.keras.optimizers.Adam,metrics=['mse'],epochs=100)"
      ],
      "execution_count": 47,
      "outputs": []
    },
    {
      "cell_type": "code",
      "metadata": {
        "id": "gZHMmqlexGcY"
      },
      "source": [
        "# Layers = 1,2,3,4,5,10,15,20,25,50\n",
        "# Epochs = 25,50,75,100,125,250,500\n",
        "# learning rate = 1.0,0.1,0.01,0.001\n",
        "# total neurons = 12500,25000,50000,75000,100000\n",
        "# activation type = linear Swish ReLU Tanh selu elu"
      ],
      "execution_count": 48,
      "outputs": []
    },
    {
      "cell_type": "code",
      "metadata": {
        "id": "jLSFqKA4xA_j"
      },
      "source": [
        "# epochs = [25,50,75,100,125,250,500]\n",
        "# for epoch in epochs:\n",
        "#   E.experiment(lr=0.001,\n",
        "#                project_name='covid19-0',\n",
        "#                name=f'0-{epoch}-epoch-test',\n",
        "#                number_of_layers=1,\n",
        "#                number_of_neurons_per_layer=1,\n",
        "#                activations=[None],\n",
        "#                loss=tf.keras.losses.mae,\n",
        "#                optimizer=tf.optimizers.Adam,\n",
        "#                metrics=['mse'],\n",
        "#                epochs=epoch)\n",
        "#   print(epoch)\n",
        "# print('Done')"
      ],
      "execution_count": 49,
      "outputs": []
    },
    {
      "cell_type": "code",
      "metadata": {
        "id": "nW3sOi-LymZW"
      },
      "source": [
        "# layers = [1,2,3,4,5,10,15,20,25,50]\n",
        "# for layer in layers:\n",
        "#   E.experiment(lr=0.001,project_name='covid19-0',name=f'0-{layer}-layer-test',number_of_layers=layer,number_of_neurons_per_layer=1,activations=[None],loss=tf.keras.losses.mae,optimizer=tf.optimizers.Adam,metrics=['mse'],epochs=100)\n",
        "#   print(layer)\n",
        "# print('Done')"
      ],
      "execution_count": 50,
      "outputs": []
    },
    {
      "cell_type": "code",
      "metadata": {
        "id": "W6evfUyKyy6V"
      },
      "source": [
        "# lrs = [1.0,0.1,0.01,0.001]\n",
        "# for lr in lrs:\n",
        "#   E.experiment(lr=lr,project_name='covid19-0',name=f'0-{lr}-lr-test',number_of_layers=1,number_of_neurons_per_layer=1,activations=[None],loss=tf.keras.losses.mae,optimizer=tf.optimizers.Adam,metrics=['mse'],epochs=100)\n",
        "#   print(lr)\n",
        "# print('Done')"
      ],
      "execution_count": 51,
      "outputs": []
    },
    {
      "cell_type": "code",
      "metadata": {
        "id": "UJ3Z2lSly7Ut"
      },
      "source": [
        "# neurons = [12500,25000,50000,75000,100000]\n",
        "# for neuron in neurons:\n",
        "#   E.experiment(lr=0.001,project_name='covid19-0',name=f'1-{neuron}-neuron-test',number_of_layers=1,number_of_neurons_per_layer=1,activations=[None],loss=tf.keras.losses.mae,optimizer=tf.optimizers.Adam,metrics=['mse'],epochs=100)\n",
        "#   print(neuron)\n",
        "# print('Done')"
      ],
      "execution_count": 52,
      "outputs": []
    },
    {
      "cell_type": "code",
      "metadata": {
        "id": "MnKWoHqX4UbE"
      },
      "source": [
        "# activation_types = 'linear swish relu tanh selu elu'\n",
        "# activation_types = activation_types.split()\n",
        "# for activation_type in activation_types:\n",
        "#   E.experiment(lr=lr,project_name='covid19-0',name=f'0-{activation_type}-at-test',number_of_layers=1,number_of_neurons_per_layer=1,activations=[activation_type],loss=tf.keras.losses.mae,optimizer=tf.optimizers.Adam,metrics=['mse'],epochs=100)\n",
        "#   print(activation_type)\n",
        "# print('Done')"
      ],
      "execution_count": 53,
      "outputs": []
    },
    {
      "cell_type": "code",
      "metadata": {
        "id": "FWWh6Jqf4_rb"
      },
      "source": [
        "# Results\n",
        "# Layers = 5 50\n",
        "# Epochs = 100 125 150 175 200\n",
        "# learning rate = 1.0 0.1\n",
        "# neurons per layer = 75000\n",
        "# activation type = selu (linear Swish ReLU Tanh selu elu)"
      ],
      "execution_count": 54,
      "outputs": []
    },
    {
      "cell_type": "code",
      "metadata": {
        "id": "HlhduN3X5DZJ"
      },
      "source": [
        "# epochs = [100,125,150,175,200]\n",
        "# for epoch in epochs:\n",
        "#   E.experiment(lr=0.001,\n",
        "#                project_name='covid19-0',\n",
        "#                name=f'2.5-{epoch}-epoch-test',\n",
        "#                number_of_layers=1,\n",
        "#                number_of_neurons_per_layer=1,\n",
        "#                activations=[None],\n",
        "#                loss=tf.keras.losses.mae,\n",
        "#                optimizer=tf.optimizers.Adam,\n",
        "#                metrics=['mse'],\n",
        "#                epochs=epoch)\n",
        "#   print(epoch)\n",
        "# print('Done')"
      ],
      "execution_count": 55,
      "outputs": []
    },
    {
      "cell_type": "code",
      "metadata": {
        "id": "8urFkk_fHGI7"
      },
      "source": [
        "# layers = [5,50]\n",
        "# for layer in layers:\n",
        "#   E.experiment(lr=0.001,project_name='covid19-0',name=f'2.5-{layer}-layer-test',number_of_layers=layer,number_of_neurons_per_layer=1,activations=[None],loss=tf.keras.losses.mae,optimizer=tf.optimizers.Adam,metrics=['mse'],epochs=100)\n",
        "#   print(layer)\n",
        "# print('Done')"
      ],
      "execution_count": 56,
      "outputs": []
    },
    {
      "cell_type": "code",
      "metadata": {
        "id": "LluWo60kHNdC"
      },
      "source": [
        "# lrs = [1.0,0.1]\n",
        "# for lr in lrs:\n",
        "#   E.experiment(lr=lr,project_name='covid19-0',name=f'2.5-{lr}-lr-test',number_of_layers=1,number_of_neurons_per_layer=1,activations=[None],loss=tf.keras.losses.mae,optimizer=tf.optimizers.Adam,metrics=['mse'],epochs=100)\n",
        "#   print(lr)\n",
        "# print('Done')"
      ],
      "execution_count": 57,
      "outputs": []
    },
    {
      "cell_type": "code",
      "metadata": {
        "id": "iqws5_KKHT7p"
      },
      "source": [
        "# Results\n",
        "# Layers = 5\n",
        "# Epochs = 175\n",
        "# learning rate = 1.0\n",
        "# neurons per layer = 75000\n",
        "# activation type = selu (linear Swish ReLU Tanh selu elu)"
      ],
      "execution_count": 58,
      "outputs": []
    },
    {
      "cell_type": "code",
      "metadata": {
        "colab": {
          "base_uri": "https://localhost:8080/",
          "height": 336
        },
        "id": "_Oj88DIILCNm",
        "outputId": "b1100de1-34f1-4d62-bbb8-12df2d19b2b5"
      },
      "source": [
        "E = Experiment()\n",
        "model = E.experiment(lr=1.0,project_name='covid19-0',name='Big-Dog-Model-1',number_of_layers=5,number_of_neurons_per_layer=62500,activations=['selu'],loss=tf.keras.losses.mae,optimizer=tf.keras.optimizers.Adam,metrics=['mse'],epochs=150)\n",
        "model.save(directory + '/model_1.pkl')"
      ],
      "execution_count": null,
      "outputs": [
        {
          "output_type": "stream",
          "text": [
            "\u001b[34m\u001b[1mwandb\u001b[0m: Currently logged in as: \u001b[33mranuga-d\u001b[0m (use `wandb login --relogin` to force relogin)\n"
          ],
          "name": "stderr"
        },
        {
          "output_type": "display_data",
          "data": {
            "text/html": [
              "\n",
              "                Tracking run with wandb version 0.10.23<br/>\n",
              "                Syncing run <strong style=\"color:#cdcd00\">Big-Dog-Model-1</strong> to <a href=\"https://wandb.ai\" target=\"_blank\">Weights & Biases</a> <a href=\"https://docs.wandb.com/integrations/jupyter.html\" target=\"_blank\">(Documentation)</a>.<br/>\n",
              "                Project page: <a href=\"https://wandb.ai/ranuga-d/covid19-0\" target=\"_blank\">https://wandb.ai/ranuga-d/covid19-0</a><br/>\n",
              "                Run page: <a href=\"https://wandb.ai/ranuga-d/covid19-0/runs/367fgdnw\" target=\"_blank\">https://wandb.ai/ranuga-d/covid19-0/runs/367fgdnw</a><br/>\n",
              "                Run data is saved locally in <code>/content/wandb/run-20210323_082958-367fgdnw</code><br/><br/>\n",
              "            "
            ],
            "text/plain": [
              "<IPython.core.display.HTML object>"
            ]
          },
          "metadata": {
            "tags": []
          }
        },
        {
          "output_type": "stream",
          "text": [
            "-\n",
            "0\n",
            "1\n",
            "2\n",
            "3\n",
            "4\n",
            "-\n",
            "-\n",
            "-\n",
            "-\n",
            "-\n",
            "Epoch 1/150\n"
          ],
          "name": "stdout"
        }
      ]
    },
    {
      "cell_type": "code",
      "metadata": {
        "id": "WYwKhXZlLss7"
      },
      "source": [
        ""
      ],
      "execution_count": null,
      "outputs": []
    }
  ]
}